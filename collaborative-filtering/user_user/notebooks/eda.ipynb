{
 "cells": [
  {
   "cell_type": "code",
   "execution_count": 2,
   "metadata": {},
   "outputs": [],
   "source": [
    "import pandas as pd\n",
    "import numpy as np\n",
    "import matplotlib.pyplot as plt"
   ]
  },
  {
   "cell_type": "code",
   "execution_count": 3,
   "metadata": {},
   "outputs": [],
   "source": [
    "ratings_df = pd.read_csv(\"../../movielens-20m-dataset/rating.csv\")"
   ]
  },
  {
   "cell_type": "code",
   "execution_count": 4,
   "metadata": {},
   "outputs": [
    {
     "data": {
      "text/html": [
       "<div>\n",
       "<style scoped>\n",
       "    .dataframe tbody tr th:only-of-type {\n",
       "        vertical-align: middle;\n",
       "    }\n",
       "\n",
       "    .dataframe tbody tr th {\n",
       "        vertical-align: top;\n",
       "    }\n",
       "\n",
       "    .dataframe thead th {\n",
       "        text-align: right;\n",
       "    }\n",
       "</style>\n",
       "<table border=\"1\" class=\"dataframe\">\n",
       "  <thead>\n",
       "    <tr style=\"text-align: right;\">\n",
       "      <th></th>\n",
       "      <th>userId</th>\n",
       "      <th>movieId</th>\n",
       "      <th>rating</th>\n",
       "      <th>timestamp</th>\n",
       "    </tr>\n",
       "  </thead>\n",
       "  <tbody>\n",
       "    <tr>\n",
       "      <th>0</th>\n",
       "      <td>1</td>\n",
       "      <td>2</td>\n",
       "      <td>3.5</td>\n",
       "      <td>2005-04-02 23:53:47</td>\n",
       "    </tr>\n",
       "    <tr>\n",
       "      <th>1</th>\n",
       "      <td>1</td>\n",
       "      <td>29</td>\n",
       "      <td>3.5</td>\n",
       "      <td>2005-04-02 23:31:16</td>\n",
       "    </tr>\n",
       "    <tr>\n",
       "      <th>2</th>\n",
       "      <td>1</td>\n",
       "      <td>32</td>\n",
       "      <td>3.5</td>\n",
       "      <td>2005-04-02 23:33:39</td>\n",
       "    </tr>\n",
       "    <tr>\n",
       "      <th>3</th>\n",
       "      <td>1</td>\n",
       "      <td>47</td>\n",
       "      <td>3.5</td>\n",
       "      <td>2005-04-02 23:32:07</td>\n",
       "    </tr>\n",
       "    <tr>\n",
       "      <th>4</th>\n",
       "      <td>1</td>\n",
       "      <td>50</td>\n",
       "      <td>3.5</td>\n",
       "      <td>2005-04-02 23:29:40</td>\n",
       "    </tr>\n",
       "  </tbody>\n",
       "</table>\n",
       "</div>"
      ],
      "text/plain": [
       "   userId  movieId  rating            timestamp\n",
       "0       1        2     3.5  2005-04-02 23:53:47\n",
       "1       1       29     3.5  2005-04-02 23:31:16\n",
       "2       1       32     3.5  2005-04-02 23:33:39\n",
       "3       1       47     3.5  2005-04-02 23:32:07\n",
       "4       1       50     3.5  2005-04-02 23:29:40"
      ]
     },
     "execution_count": 4,
     "metadata": {},
     "output_type": "execute_result"
    }
   ],
   "source": [
    "ratings_df.head()"
   ]
  },
  {
   "cell_type": "code",
   "execution_count": 5,
   "metadata": {},
   "outputs": [
    {
     "data": {
      "text/plain": [
       "0"
      ]
     },
     "execution_count": 5,
     "metadata": {},
     "output_type": "execute_result"
    }
   ],
   "source": [
    "ratings_df.duplicated().sum()"
   ]
  },
  {
   "cell_type": "code",
   "execution_count": 6,
   "metadata": {},
   "outputs": [
    {
     "name": "stdout",
     "output_type": "stream",
     "text": [
      "Size of item-user matrix: 3703856792 >> 20000263 Number of actual ratings\n"
     ]
    }
   ],
   "source": [
    "unique_user_ids = ratings_df.userId.nunique()\n",
    "unique_movie_ids = ratings_df.movieId.nunique()\n",
    "item_user_matrix_size = unique_movie_ids * unique_user_ids\n",
    "number_of_ratings = len(ratings_df)\n",
    "print(f\"Size of item-user matrix: {item_user_matrix_size} >> {number_of_ratings} Number of actual ratings\")"
   ]
  },
  {
   "cell_type": "code",
   "execution_count": 7,
   "metadata": {},
   "outputs": [],
   "source": [
    "avg_user_ratings = ratings_df.groupby([\"userId\"]).mean(numeric_only=True)\n",
    "avg_user_ratings.head()\n",
    "assert avg_user_ratings.rating.min() >= 0.0 and avg_user_ratings.rating.max() <= 5.0"
   ]
  },
  {
   "cell_type": "markdown",
   "metadata": {},
   "source": [
    "## Number of ratings per user"
   ]
  },
  {
   "cell_type": "code",
   "execution_count": 8,
   "metadata": {},
   "outputs": [
    {
     "name": "stdout",
     "output_type": "stream",
     "text": [
      "number of ratings per user vary between 20 and 9254\n"
     ]
    },
    {
     "data": {
      "text/plain": [
       "[]"
      ]
     },
     "execution_count": 8,
     "metadata": {},
     "output_type": "execute_result"
    },
    {
     "data": {
      "image/png": "[encoded data removed]",
      "text/plain": [
       "<Figure size 640x480 with 1 Axes>"
      ]
     },
     "metadata": {},
     "output_type": "display_data"
    }
   ],
   "source": [
    "num_user_ratings = ratings_df[[\"userId\", \"rating\"]].groupby([\"userId\"]).count().reset_index().rename(columns={\"rating\": \"ratingsGiven\"})\n",
    "print(f\"number of ratings per user vary between {num_user_ratings.ratingsGiven.min()} and {num_user_ratings.ratingsGiven.max()}\")\n",
    "plt.yscale('log')\n",
    "plt.hist(num_user_ratings.ratingsGiven, bins=100)\n",
    "plt.plot()"
   ]
  },
  {
   "cell_type": "code",
   "execution_count": 9,
   "metadata": {},
   "outputs": [
    {
     "data": {
      "text/html": [
       "<div>\n",
       "<style scoped>\n",
       "    .dataframe tbody tr th:only-of-type {\n",
       "        vertical-align: middle;\n",
       "    }\n",
       "\n",
       "    .dataframe tbody tr th {\n",
       "        vertical-align: top;\n",
       "    }\n",
       "\n",
       "    .dataframe thead th {\n",
       "        text-align: right;\n",
       "    }\n",
       "</style>\n",
       "<table border=\"1\" class=\"dataframe\">\n",
       "  <thead>\n",
       "    <tr style=\"text-align: right;\">\n",
       "      <th></th>\n",
       "      <th>userId</th>\n",
       "      <th>ratingsGiven</th>\n",
       "    </tr>\n",
       "  </thead>\n",
       "  <tbody>\n",
       "    <tr>\n",
       "      <th>0</th>\n",
       "      <td>1</td>\n",
       "      <td>175</td>\n",
       "    </tr>\n",
       "    <tr>\n",
       "      <th>1</th>\n",
       "      <td>2</td>\n",
       "      <td>61</td>\n",
       "    </tr>\n",
       "    <tr>\n",
       "      <th>2</th>\n",
       "      <td>3</td>\n",
       "      <td>187</td>\n",
       "    </tr>\n",
       "    <tr>\n",
       "      <th>3</th>\n",
       "      <td>4</td>\n",
       "      <td>28</td>\n",
       "    </tr>\n",
       "    <tr>\n",
       "      <th>4</th>\n",
       "      <td>5</td>\n",
       "      <td>66</td>\n",
       "    </tr>\n",
       "  </tbody>\n",
       "</table>\n",
       "</div>"
      ],
      "text/plain": [
       "   userId  ratingsGiven\n",
       "0       1           175\n",
       "1       2            61\n",
       "2       3           187\n",
       "3       4            28\n",
       "4       5            66"
      ]
     },
     "execution_count": 9,
     "metadata": {},
     "output_type": "execute_result"
    }
   ],
   "source": [
    "num_user_ratings.head()"
   ]
  },
  {
   "cell_type": "code",
   "execution_count": 10,
   "metadata": {},
   "outputs": [
    {
     "data": {
      "text/html": [
       "<div>\n",
       "<style scoped>\n",
       "    .dataframe tbody tr th:only-of-type {\n",
       "        vertical-align: middle;\n",
       "    }\n",
       "\n",
       "    .dataframe tbody tr th {\n",
       "        vertical-align: top;\n",
       "    }\n",
       "\n",
       "    .dataframe thead th {\n",
       "        text-align: right;\n",
       "    }\n",
       "</style>\n",
       "<table border=\"1\" class=\"dataframe\">\n",
       "  <thead>\n",
       "    <tr style=\"text-align: right;\">\n",
       "      <th></th>\n",
       "      <th>userId</th>\n",
       "      <th>movieId</th>\n",
       "      <th>rating</th>\n",
       "      <th>timestamp</th>\n",
       "    </tr>\n",
       "  </thead>\n",
       "  <tbody>\n",
       "    <tr>\n",
       "      <th>0</th>\n",
       "      <td>1</td>\n",
       "      <td>2</td>\n",
       "      <td>3.5</td>\n",
       "      <td>2005-04-02 23:53:47</td>\n",
       "    </tr>\n",
       "    <tr>\n",
       "      <th>1</th>\n",
       "      <td>1</td>\n",
       "      <td>29</td>\n",
       "      <td>3.5</td>\n",
       "      <td>2005-04-02 23:31:16</td>\n",
       "    </tr>\n",
       "    <tr>\n",
       "      <th>2</th>\n",
       "      <td>1</td>\n",
       "      <td>32</td>\n",
       "      <td>3.5</td>\n",
       "      <td>2005-04-02 23:33:39</td>\n",
       "    </tr>\n",
       "    <tr>\n",
       "      <th>3</th>\n",
       "      <td>1</td>\n",
       "      <td>47</td>\n",
       "      <td>3.5</td>\n",
       "      <td>2005-04-02 23:32:07</td>\n",
       "    </tr>\n",
       "    <tr>\n",
       "      <th>4</th>\n",
       "      <td>1</td>\n",
       "      <td>50</td>\n",
       "      <td>3.5</td>\n",
       "      <td>2005-04-02 23:29:40</td>\n",
       "    </tr>\n",
       "  </tbody>\n",
       "</table>\n",
       "</div>"
      ],
      "text/plain": [
       "   userId  movieId  rating            timestamp\n",
       "0       1        2     3.5  2005-04-02 23:53:47\n",
       "1       1       29     3.5  2005-04-02 23:31:16\n",
       "2       1       32     3.5  2005-04-02 23:33:39\n",
       "3       1       47     3.5  2005-04-02 23:32:07\n",
       "4       1       50     3.5  2005-04-02 23:29:40"
      ]
     },
     "execution_count": 10,
     "metadata": {},
     "output_type": "execute_result"
    }
   ],
   "source": [
    "ratings_df.head()"
   ]
  },
  {
   "cell_type": "code",
   "execution_count": 302,
   "metadata": {},
   "outputs": [
    {
     "data": {
      "text/plain": [
       "userId\n",
       "118205    9254\n",
       "8405      7515\n",
       "82418     5646\n",
       "121535    5520\n",
       "125794    5491\n",
       "          ... \n",
       "130622    2165\n",
       "10761     2164\n",
       "54113     2161\n",
       "110706    2159\n",
       "91349     2159\n",
       "Name: count, Length: 200, dtype: int64"
      ]
     },
     "execution_count": 302,
     "metadata": {},
     "output_type": "execute_result"
    }
   ],
   "source": [
    "most_common_user_ids = ratings_df.userId.value_counts().head(200)\n",
    "most_common_user_ids"
   ]
  },
  {
   "cell_type": "code",
   "execution_count": 303,
   "metadata": {},
   "outputs": [
    {
     "data": {
      "text/plain": [
       "movieId\n",
       "296      67310\n",
       "356      66172\n",
       "318      63366\n",
       "593      63299\n",
       "480      59715\n",
       "         ...  \n",
       "1589      5044\n",
       "1049      5039\n",
       "915       5029\n",
       "38061     5026\n",
       "383       5025\n",
       "Name: count, Length: 1000, dtype: int64"
      ]
     },
     "execution_count": 303,
     "metadata": {},
     "output_type": "execute_result"
    }
   ],
   "source": [
    "most_common_movie_ids = ratings_df.movieId.value_counts().head(1_000)\n",
    "most_common_movie_ids"
   ]
  },
  {
   "cell_type": "code",
   "execution_count": 304,
   "metadata": {},
   "outputs": [
    {
     "data": {
      "text/html": [
       "<div>\n",
       "<style scoped>\n",
       "    .dataframe tbody tr th:only-of-type {\n",
       "        vertical-align: middle;\n",
       "    }\n",
       "\n",
       "    .dataframe tbody tr th {\n",
       "        vertical-align: top;\n",
       "    }\n",
       "\n",
       "    .dataframe thead th {\n",
       "        text-align: right;\n",
       "    }\n",
       "</style>\n",
       "<table border=\"1\" class=\"dataframe\">\n",
       "  <thead>\n",
       "    <tr style=\"text-align: right;\">\n",
       "      <th></th>\n",
       "      <th>userId</th>\n",
       "      <th>movieId</th>\n",
       "      <th>rating</th>\n",
       "      <th>timestamp</th>\n",
       "    </tr>\n",
       "  </thead>\n",
       "  <tbody>\n",
       "    <tr>\n",
       "      <th>19846</th>\n",
       "      <td>156</td>\n",
       "      <td>1</td>\n",
       "      <td>5.0</td>\n",
       "      <td>2002-11-19 20:54:26</td>\n",
       "    </tr>\n",
       "    <tr>\n",
       "      <th>19847</th>\n",
       "      <td>156</td>\n",
       "      <td>2</td>\n",
       "      <td>5.0</td>\n",
       "      <td>2002-12-26 21:20:49</td>\n",
       "    </tr>\n",
       "    <tr>\n",
       "      <th>19848</th>\n",
       "      <td>156</td>\n",
       "      <td>3</td>\n",
       "      <td>2.0</td>\n",
       "      <td>2002-12-02 03:53:45</td>\n",
       "    </tr>\n",
       "    <tr>\n",
       "      <th>19850</th>\n",
       "      <td>156</td>\n",
       "      <td>5</td>\n",
       "      <td>3.0</td>\n",
       "      <td>2002-12-26 23:16:23</td>\n",
       "    </tr>\n",
       "    <tr>\n",
       "      <th>19851</th>\n",
       "      <td>156</td>\n",
       "      <td>6</td>\n",
       "      <td>4.0</td>\n",
       "      <td>2002-11-20 19:55:17</td>\n",
       "    </tr>\n",
       "    <tr>\n",
       "      <th>...</th>\n",
       "      <td>...</td>\n",
       "      <td>...</td>\n",
       "      <td>...</td>\n",
       "      <td>...</td>\n",
       "    </tr>\n",
       "    <tr>\n",
       "      <th>19963231</th>\n",
       "      <td>138208</td>\n",
       "      <td>78499</td>\n",
       "      <td>4.0</td>\n",
       "      <td>2012-03-05 01:08:34</td>\n",
       "    </tr>\n",
       "    <tr>\n",
       "      <th>19963237</th>\n",
       "      <td>138208</td>\n",
       "      <td>79132</td>\n",
       "      <td>3.0</td>\n",
       "      <td>2012-03-05 01:08:40</td>\n",
       "    </tr>\n",
       "    <tr>\n",
       "      <th>19963240</th>\n",
       "      <td>138208</td>\n",
       "      <td>80463</td>\n",
       "      <td>4.5</td>\n",
       "      <td>2012-03-05 01:10:09</td>\n",
       "    </tr>\n",
       "    <tr>\n",
       "      <th>19963248</th>\n",
       "      <td>138208</td>\n",
       "      <td>81591</td>\n",
       "      <td>3.5</td>\n",
       "      <td>2012-03-05 01:07:50</td>\n",
       "    </tr>\n",
       "    <tr>\n",
       "      <th>19963250</th>\n",
       "      <td>138208</td>\n",
       "      <td>81845</td>\n",
       "      <td>3.0</td>\n",
       "      <td>2012-03-05 01:09:08</td>\n",
       "    </tr>\n",
       "  </tbody>\n",
       "</table>\n",
       "<p>147398 rows × 4 columns</p>\n",
       "</div>"
      ],
      "text/plain": [
       "          userId  movieId  rating            timestamp\n",
       "19846        156        1     5.0  2002-11-19 20:54:26\n",
       "19847        156        2     5.0  2002-12-26 21:20:49\n",
       "19848        156        3     2.0  2002-12-02 03:53:45\n",
       "19850        156        5     3.0  2002-12-26 23:16:23\n",
       "19851        156        6     4.0  2002-11-20 19:55:17\n",
       "...          ...      ...     ...                  ...\n",
       "19963231  138208    78499     4.0  2012-03-05 01:08:34\n",
       "19963237  138208    79132     3.0  2012-03-05 01:08:40\n",
       "19963240  138208    80463     4.5  2012-03-05 01:10:09\n",
       "19963248  138208    81591     3.5  2012-03-05 01:07:50\n",
       "19963250  138208    81845     3.0  2012-03-05 01:09:08\n",
       "\n",
       "[147398 rows x 4 columns]"
      ]
     },
     "execution_count": 304,
     "metadata": {},
     "output_type": "execute_result"
    }
   ],
   "source": [
    "ratings_df_subset = ratings_df[(ratings_df.userId.isin(most_common_user_ids.index)) & (ratings_df.movieId.isin(most_common_movie_ids.index))]\n",
    "ratings_df_subset"
   ]
  },
  {
   "cell_type": "code",
   "execution_count": 305,
   "metadata": {},
   "outputs": [
    {
     "data": {
      "text/plain": [
       "movieId\n",
       "1097    199\n",
       "608     198\n",
       "593     197\n",
       "1214    197\n",
       "296     197\n",
       "       ... \n",
       "222      78\n",
       "277      76\n",
       "140      69\n",
       "362      68\n",
       "107      67\n",
       "Name: count, Length: 1000, dtype: int64"
      ]
     },
     "execution_count": 305,
     "metadata": {},
     "output_type": "execute_result"
    }
   ],
   "source": [
    "new_most_common_movie_ids = ratings_df_subset[\"movieId\"].value_counts()\n",
    "new_most_common_movie_ids"
   ]
  },
  {
   "cell_type": "code",
   "execution_count": 306,
   "metadata": {},
   "outputs": [
    {
     "data": {
      "text/plain": [
       "userId\n",
       "8405      999\n",
       "118205    988\n",
       "118754    964\n",
       "74142     952\n",
       "71975     949\n",
       "         ... \n",
       "80092     469\n",
       "59414     464\n",
       "131894    417\n",
       "98865     348\n",
       "81186     326\n",
       "Name: count, Length: 200, dtype: int64"
      ]
     },
     "execution_count": 306,
     "metadata": {},
     "output_type": "execute_result"
    }
   ],
   "source": [
    "new_most_common_user_ids = ratings_df_subset[\"userId\"].value_counts()\n",
    "new_most_common_user_ids"
   ]
  },
  {
   "cell_type": "code",
   "execution_count": 307,
   "metadata": {},
   "outputs": [],
   "source": [
    "ratings_train = ratings_df_subset.sample(frac=0.8, random_state=42)\n",
    "ratings_test = ratings_df_subset.drop(ratings_train.index)"
   ]
  },
  {
   "cell_type": "code",
   "execution_count": 308,
   "metadata": {},
   "outputs": [
    {
     "data": {
      "text/plain": [
       "userId          200\n",
       "movieId        1000\n",
       "rating           10\n",
       "timestamp    128829\n",
       "dtype: int64"
      ]
     },
     "execution_count": 308,
     "metadata": {},
     "output_type": "execute_result"
    }
   ],
   "source": [
    "ratings_df_subset.nunique()"
   ]
  },
  {
   "cell_type": "code",
   "execution_count": 309,
   "metadata": {},
   "outputs": [
    {
     "data": {
      "text/plain": [
       "userId          200\n",
       "movieId        1000\n",
       "rating           10\n",
       "timestamp    104872\n",
       "dtype: int64"
      ]
     },
     "execution_count": 309,
     "metadata": {},
     "output_type": "execute_result"
    }
   ],
   "source": [
    "ratings_train.nunique()"
   ]
  },
  {
   "cell_type": "code",
   "execution_count": 310,
   "metadata": {},
   "outputs": [
    {
     "data": {
      "text/plain": [
       "userId         200\n",
       "movieId       1000\n",
       "rating          10\n",
       "timestamp    28367\n",
       "dtype: int64"
      ]
     },
     "execution_count": 310,
     "metadata": {},
     "output_type": "execute_result"
    }
   ],
   "source": [
    "ratings_test.nunique()"
   ]
  },
  {
   "cell_type": "code",
   "execution_count": 311,
   "metadata": {},
   "outputs": [
    {
     "data": {
      "text/html": [
       "<div>\n",
       "<style scoped>\n",
       "    .dataframe tbody tr th:only-of-type {\n",
       "        vertical-align: middle;\n",
       "    }\n",
       "\n",
       "    .dataframe tbody tr th {\n",
       "        vertical-align: top;\n",
       "    }\n",
       "\n",
       "    .dataframe thead th {\n",
       "        text-align: right;\n",
       "    }\n",
       "</style>\n",
       "<table border=\"1\" class=\"dataframe\">\n",
       "  <thead>\n",
       "    <tr style=\"text-align: right;\">\n",
       "      <th></th>\n",
       "      <th>userId</th>\n",
       "      <th>movieId</th>\n",
       "      <th>rating</th>\n",
       "      <th>timestamp</th>\n",
       "    </tr>\n",
       "  </thead>\n",
       "  <tbody>\n",
       "    <tr>\n",
       "      <th>6127222</th>\n",
       "      <td>42204</td>\n",
       "      <td>1025</td>\n",
       "      <td>3.0</td>\n",
       "      <td>2004-08-04 04:22:20</td>\n",
       "    </tr>\n",
       "    <tr>\n",
       "      <th>16935972</th>\n",
       "      <td>117144</td>\n",
       "      <td>1204</td>\n",
       "      <td>4.0</td>\n",
       "      <td>2001-08-25 01:43:54</td>\n",
       "    </tr>\n",
       "    <tr>\n",
       "      <th>16935769</th>\n",
       "      <td>117144</td>\n",
       "      <td>317</td>\n",
       "      <td>3.0</td>\n",
       "      <td>2005-04-11 17:54:56</td>\n",
       "    </tr>\n",
       "    <tr>\n",
       "      <th>4713191</th>\n",
       "      <td>32344</td>\n",
       "      <td>3752</td>\n",
       "      <td>3.5</td>\n",
       "      <td>2006-04-10 18:40:26</td>\n",
       "    </tr>\n",
       "    <tr>\n",
       "      <th>10718686</th>\n",
       "      <td>74142</td>\n",
       "      <td>1517</td>\n",
       "      <td>4.0</td>\n",
       "      <td>2006-12-04 16:08:09</td>\n",
       "    </tr>\n",
       "    <tr>\n",
       "      <th>...</th>\n",
       "      <td>...</td>\n",
       "      <td>...</td>\n",
       "      <td>...</td>\n",
       "      <td>...</td>\n",
       "    </tr>\n",
       "    <tr>\n",
       "      <th>18886954</th>\n",
       "      <td>130767</td>\n",
       "      <td>3060</td>\n",
       "      <td>4.0</td>\n",
       "      <td>2010-06-27 19:21:43</td>\n",
       "    </tr>\n",
       "    <tr>\n",
       "      <th>12933823</th>\n",
       "      <td>89307</td>\n",
       "      <td>2797</td>\n",
       "      <td>2.5</td>\n",
       "      <td>2005-03-22 07:43:13</td>\n",
       "    </tr>\n",
       "    <tr>\n",
       "      <th>14741248</th>\n",
       "      <td>101861</td>\n",
       "      <td>193</td>\n",
       "      <td>4.0</td>\n",
       "      <td>2002-08-05 22:39:01</td>\n",
       "    </tr>\n",
       "    <tr>\n",
       "      <th>12949581</th>\n",
       "      <td>89402</td>\n",
       "      <td>1370</td>\n",
       "      <td>4.5</td>\n",
       "      <td>2009-07-01 19:55:34</td>\n",
       "    </tr>\n",
       "    <tr>\n",
       "      <th>12032416</th>\n",
       "      <td>83090</td>\n",
       "      <td>455</td>\n",
       "      <td>2.0</td>\n",
       "      <td>2002-08-20 20:05:11</td>\n",
       "    </tr>\n",
       "  </tbody>\n",
       "</table>\n",
       "<p>117918 rows × 4 columns</p>\n",
       "</div>"
      ],
      "text/plain": [
       "          userId  movieId  rating            timestamp\n",
       "6127222    42204     1025     3.0  2004-08-04 04:22:20\n",
       "16935972  117144     1204     4.0  2001-08-25 01:43:54\n",
       "16935769  117144      317     3.0  2005-04-11 17:54:56\n",
       "4713191    32344     3752     3.5  2006-04-10 18:40:26\n",
       "10718686   74142     1517     4.0  2006-12-04 16:08:09\n",
       "...          ...      ...     ...                  ...\n",
       "18886954  130767     3060     4.0  2010-06-27 19:21:43\n",
       "12933823   89307     2797     2.5  2005-03-22 07:43:13\n",
       "14741248  101861      193     4.0  2002-08-05 22:39:01\n",
       "12949581   89402     1370     4.5  2009-07-01 19:55:34\n",
       "12032416   83090      455     2.0  2002-08-20 20:05:11\n",
       "\n",
       "[117918 rows x 4 columns]"
      ]
     },
     "execution_count": 311,
     "metadata": {},
     "output_type": "execute_result"
    }
   ],
   "source": [
    "ratings_train"
   ]
  },
  {
   "cell_type": "code",
   "execution_count": 312,
   "metadata": {},
   "outputs": [
    {
     "data": {
      "text/html": [
       "<div>\n",
       "<style scoped>\n",
       "    .dataframe tbody tr th:only-of-type {\n",
       "        vertical-align: middle;\n",
       "    }\n",
       "\n",
       "    .dataframe tbody tr th {\n",
       "        vertical-align: top;\n",
       "    }\n",
       "\n",
       "    .dataframe thead th {\n",
       "        text-align: right;\n",
       "    }\n",
       "</style>\n",
       "<table border=\"1\" class=\"dataframe\">\n",
       "  <thead>\n",
       "    <tr style=\"text-align: right;\">\n",
       "      <th></th>\n",
       "      <th>ratedMovies</th>\n",
       "      <th>meanRating</th>\n",
       "    </tr>\n",
       "    <tr>\n",
       "      <th>userId</th>\n",
       "      <th></th>\n",
       "      <th></th>\n",
       "    </tr>\n",
       "  </thead>\n",
       "  <tbody>\n",
       "    <tr>\n",
       "      <th>156</th>\n",
       "      <td>{1499: 4.0, 4025: 4.0, 2085: 5.0, 141: 4.0, 10...</td>\n",
       "      <td>4.035141</td>\n",
       "    </tr>\n",
       "    <tr>\n",
       "      <th>741</th>\n",
       "      <td>{1945: 5.0, 3252: 5.0, 1125: 5.0, 196: 2.0, 10...</td>\n",
       "      <td>3.903030</td>\n",
       "    </tr>\n",
       "    <tr>\n",
       "      <th>903</th>\n",
       "      <td>{837: 2.0, 2953: 3.0, 1953: 3.0, 17: 3.0, 1257...</td>\n",
       "      <td>3.153355</td>\n",
       "    </tr>\n",
       "    <tr>\n",
       "      <th>982</th>\n",
       "      <td>{1805: 3.0, 648: 2.5, 3253: 3.0, 1275: 3.0, 24...</td>\n",
       "      <td>3.274436</td>\n",
       "    </tr>\n",
       "    <tr>\n",
       "      <th>2261</th>\n",
       "      <td>{4002: 2.0, 5502: 3.0, 596: 3.5, 3827: 3.0, 11...</td>\n",
       "      <td>2.913934</td>\n",
       "    </tr>\n",
       "  </tbody>\n",
       "</table>\n",
       "</div>"
      ],
      "text/plain": [
       "                                              ratedMovies  meanRating\n",
       "userId                                                               \n",
       "156     {1499: 4.0, 4025: 4.0, 2085: 5.0, 141: 4.0, 10...    4.035141\n",
       "741     {1945: 5.0, 3252: 5.0, 1125: 5.0, 196: 2.0, 10...    3.903030\n",
       "903     {837: 2.0, 2953: 3.0, 1953: 3.0, 17: 3.0, 1257...    3.153355\n",
       "982     {1805: 3.0, 648: 2.5, 3253: 3.0, 1275: 3.0, 24...    3.274436\n",
       "2261    {4002: 2.0, 5502: 3.0, 596: 3.5, 3827: 3.0, 11...    2.913934"
      ]
     },
     "execution_count": 312,
     "metadata": {},
     "output_type": "execute_result"
    }
   ],
   "source": [
    "movies_per_user_train = ratings_train.groupby(\"userId\").apply(lambda x: pd.Series({'ratedMovies': dict(zip(x[\"movieId\"], x[\"rating\"])),\n",
    "                                                                                 'meanRating': x[\"rating\"].mean()}), include_groups=False)\n",
    "movies_per_user_train.head()"
   ]
  },
  {
   "cell_type": "code",
   "execution_count": 313,
   "metadata": {},
   "outputs": [
    {
     "name": "stdout",
     "output_type": "stream",
     "text": [
      "200\n"
     ]
    }
   ],
   "source": [
    "num_users_train = len(movies_per_user_train)\n",
    "print(num_users_train)"
   ]
  },
  {
   "cell_type": "code",
   "execution_count": 315,
   "metadata": {},
   "outputs": [
    {
     "data": {
      "text/plain": [
       "<Axes: >"
      ]
     },
     "execution_count": 315,
     "metadata": {},
     "output_type": "execute_result"
    },
    {
     "data": {
      "image/png": "[encoded data removed]",
      "text/plain": [
       "<Figure size 640x480 with 1 Axes>"
      ]
     },
     "metadata": {},
     "output_type": "display_data"
    }
   ],
   "source": [
    "new_most_common_user_ids = ratings_df_subset[\"userId\"].value_counts()\n",
    "new_most_common_user_ids.hist()"
   ]
  },
  {
   "cell_type": "code",
   "execution_count": 316,
   "metadata": {},
   "outputs": [],
   "source": [
    "sparse_weights = {}\n",
    "min_common_movies = 5\n",
    "for user_id in movies_per_user_train.index:\n",
    "    sparse_weights[user_id] = []\n",
    "\n",
    "for i, (user_id, row) in enumerate(movies_per_user_train.iterrows()):\n",
    "    rated_movies_i = row[\"ratedMovies\"]\n",
    "    for user_prime_id in reversed(movies_per_user_train.index):\n",
    "        if user_prime_id == user_id:\n",
    "            break\n",
    "        record = movies_per_user_train.loc[user_prime_id]\n",
    "        rated_movies_prime = record[\"ratedMovies\"]\n",
    "        intersection = set(rated_movies_i).intersection(set(rated_movies_prime))\n",
    "        if len(intersection) > min_common_movies:\n",
    "            user_ratings = pd.Series(rated_movies_i)\n",
    "            user_prime_ratings = pd.Series(rated_movies_prime)\n",
    "            with np.errstate(divide=\"ignore\", invalid=\"ignore\"):\n",
    "                correlation_coefficient = user_ratings.corr(user_prime_ratings)\n",
    "            if np.isnan(correlation_coefficient):\n",
    "                continue\n",
    "            sparse_weights[user_id].append((user_prime_id, correlation_coefficient))\n",
    "            sparse_weights[user_prime_id].append((user_id, correlation_coefficient))"
   ]
  },
  {
   "cell_type": "code",
   "execution_count": 329,
   "metadata": {},
   "outputs": [],
   "source": [
    "def predict_score(row):\n",
    "    sum_weights = 0\n",
    "    weighted_sum = 0\n",
    "    user_id = row[\"userId\"]\n",
    "    movie_id = row[\"movieId\"]\n",
    "    for user_prime_id, weight in sparse_weights[user_id]:\n",
    "        record = movies_per_user_train.loc[user_prime_id]\n",
    "        rating_prime = record[\"ratedMovies\"].get(movie_id)\n",
    "        if rating_prime is not None:\n",
    "            sum_weights += abs(weight)\n",
    "            weighted_sum += weight * (rating_prime - record[\"meanRating\"])\n",
    "    if sum_weights != 0:\n",
    "        deviation_score = weighted_sum / sum_weights\n",
    "        return movies_per_user_train.loc[user_id][\"meanRating\"] + deviation_score\n",
    "    else:\n",
    "        return np.nan"
   ]
  },
  {
   "cell_type": "code",
   "execution_count": 334,
   "metadata": {},
   "outputs": [
    {
     "data": {
      "text/html": [
       "<div>\n",
       "<style scoped>\n",
       "    .dataframe tbody tr th:only-of-type {\n",
       "        vertical-align: middle;\n",
       "    }\n",
       "\n",
       "    .dataframe tbody tr th {\n",
       "        vertical-align: top;\n",
       "    }\n",
       "\n",
       "    .dataframe thead th {\n",
       "        text-align: right;\n",
       "    }\n",
       "</style>\n",
       "<table border=\"1\" class=\"dataframe\">\n",
       "  <thead>\n",
       "    <tr style=\"text-align: right;\">\n",
       "      <th></th>\n",
       "      <th>userId</th>\n",
       "      <th>movieId</th>\n",
       "      <th>rating</th>\n",
       "      <th>timestamp</th>\n",
       "      <th>prediction</th>\n",
       "    </tr>\n",
       "  </thead>\n",
       "  <tbody>\n",
       "    <tr>\n",
       "      <th>6127222</th>\n",
       "      <td>42204</td>\n",
       "      <td>1025</td>\n",
       "      <td>3.0</td>\n",
       "      <td>2004-08-04 04:22:20</td>\n",
       "      <td>3.193593</td>\n",
       "    </tr>\n",
       "    <tr>\n",
       "      <th>16935972</th>\n",
       "      <td>117144</td>\n",
       "      <td>1204</td>\n",
       "      <td>4.0</td>\n",
       "      <td>2001-08-25 01:43:54</td>\n",
       "      <td>4.386691</td>\n",
       "    </tr>\n",
       "    <tr>\n",
       "      <th>16935769</th>\n",
       "      <td>117144</td>\n",
       "      <td>317</td>\n",
       "      <td>3.0</td>\n",
       "      <td>2005-04-11 17:54:56</td>\n",
       "      <td>2.962840</td>\n",
       "    </tr>\n",
       "    <tr>\n",
       "      <th>4713191</th>\n",
       "      <td>32344</td>\n",
       "      <td>3752</td>\n",
       "      <td>3.5</td>\n",
       "      <td>2006-04-10 18:40:26</td>\n",
       "      <td>2.510493</td>\n",
       "    </tr>\n",
       "    <tr>\n",
       "      <th>10718686</th>\n",
       "      <td>74142</td>\n",
       "      <td>1517</td>\n",
       "      <td>4.0</td>\n",
       "      <td>2006-12-04 16:08:09</td>\n",
       "      <td>2.547687</td>\n",
       "    </tr>\n",
       "    <tr>\n",
       "      <th>...</th>\n",
       "      <td>...</td>\n",
       "      <td>...</td>\n",
       "      <td>...</td>\n",
       "      <td>...</td>\n",
       "      <td>...</td>\n",
       "    </tr>\n",
       "    <tr>\n",
       "      <th>18886954</th>\n",
       "      <td>130767</td>\n",
       "      <td>3060</td>\n",
       "      <td>4.0</td>\n",
       "      <td>2010-06-27 19:21:43</td>\n",
       "      <td>3.468246</td>\n",
       "    </tr>\n",
       "    <tr>\n",
       "      <th>12933823</th>\n",
       "      <td>89307</td>\n",
       "      <td>2797</td>\n",
       "      <td>2.5</td>\n",
       "      <td>2005-03-22 07:43:13</td>\n",
       "      <td>2.940935</td>\n",
       "    </tr>\n",
       "    <tr>\n",
       "      <th>14741248</th>\n",
       "      <td>101861</td>\n",
       "      <td>193</td>\n",
       "      <td>4.0</td>\n",
       "      <td>2002-08-05 22:39:01</td>\n",
       "      <td>1.847236</td>\n",
       "    </tr>\n",
       "    <tr>\n",
       "      <th>12949581</th>\n",
       "      <td>89402</td>\n",
       "      <td>1370</td>\n",
       "      <td>4.5</td>\n",
       "      <td>2009-07-01 19:55:34</td>\n",
       "      <td>3.376847</td>\n",
       "    </tr>\n",
       "    <tr>\n",
       "      <th>12032416</th>\n",
       "      <td>83090</td>\n",
       "      <td>455</td>\n",
       "      <td>2.0</td>\n",
       "      <td>2002-08-20 20:05:11</td>\n",
       "      <td>1.830445</td>\n",
       "    </tr>\n",
       "  </tbody>\n",
       "</table>\n",
       "<p>117918 rows × 5 columns</p>\n",
       "</div>"
      ],
      "text/plain": [
       "          userId  movieId  rating            timestamp  prediction\n",
       "6127222    42204     1025     3.0  2004-08-04 04:22:20    3.193593\n",
       "16935972  117144     1204     4.0  2001-08-25 01:43:54    4.386691\n",
       "16935769  117144      317     3.0  2005-04-11 17:54:56    2.962840\n",
       "4713191    32344     3752     3.5  2006-04-10 18:40:26    2.510493\n",
       "10718686   74142     1517     4.0  2006-12-04 16:08:09    2.547687\n",
       "...          ...      ...     ...                  ...         ...\n",
       "18886954  130767     3060     4.0  2010-06-27 19:21:43    3.468246\n",
       "12933823   89307     2797     2.5  2005-03-22 07:43:13    2.940935\n",
       "14741248  101861      193     4.0  2002-08-05 22:39:01    1.847236\n",
       "12949581   89402     1370     4.5  2009-07-01 19:55:34    3.376847\n",
       "12032416   83090      455     2.0  2002-08-20 20:05:11    1.830445\n",
       "\n",
       "[117918 rows x 5 columns]"
      ]
     },
     "execution_count": 334,
     "metadata": {},
     "output_type": "execute_result"
    }
   ],
   "source": [
    "ratings_train[\"prediction\"] = ratings_train.apply(predict_score, axis=1)\n",
    "ratings_train"
   ]
  },
  {
   "cell_type": "code",
   "execution_count": 335,
   "metadata": {},
   "outputs": [
    {
     "data": {
      "text/plain": [
       "0"
      ]
     },
     "execution_count": 335,
     "metadata": {},
     "output_type": "execute_result"
    }
   ],
   "source": [
    "ratings_train[\"prediction\"].isna().sum()"
   ]
  },
  {
   "cell_type": "code",
   "execution_count": 336,
   "metadata": {},
   "outputs": [],
   "source": [
    "ratings_train[\"prediction\"] = ratings_train[\"prediction\"].apply(lambda x: min(5, max(0, x)))"
   ]
  },
  {
   "cell_type": "code",
   "execution_count": 337,
   "metadata": {},
   "outputs": [
    {
     "data": {
      "text/plain": [
       "(5.0, 0.5898238309296531)"
      ]
     },
     "execution_count": 337,
     "metadata": {},
     "output_type": "execute_result"
    }
   ],
   "source": [
    "ratings_train[\"prediction\"].max(), ratings_train[\"prediction\"].min()"
   ]
  },
  {
   "cell_type": "code",
   "execution_count": 341,
   "metadata": {},
   "outputs": [
    {
     "data": {
      "text/plain": [
       "0.6215169436883158"
      ]
     },
     "execution_count": 341,
     "metadata": {},
     "output_type": "execute_result"
    }
   ],
   "source": [
    "mse = ((ratings_train[\"rating\"] - ratings_train[\"prediction\"]) ** 2).mean()\n",
    "mse"
   ]
  },
  {
   "cell_type": "code",
   "execution_count": 340,
   "metadata": {},
   "outputs": [
    {
     "data": {
      "text/plain": [
       "<Axes: >"
      ]
     },
     "execution_count": 340,
     "metadata": {},
     "output_type": "execute_result"
    },
    {
     "data": {
      "image/png": "[encoded data removed]",
      "text/plain": [
       "<Figure size 640x480 with 1 Axes>"
      ]
     },
     "metadata": {},
     "output_type": "display_data"
    }
   ],
   "source": [
    "error = (ratings_train[\"rating\"] - ratings_train[\"prediction\"])\n",
    "error.hist(bins=100)"
   ]
  },
  {
   "cell_type": "code",
   "execution_count": 342,
   "metadata": {},
   "outputs": [
    {
     "data": {
      "text/html": [
       "<div>\n",
       "<style scoped>\n",
       "    .dataframe tbody tr th:only-of-type {\n",
       "        vertical-align: middle;\n",
       "    }\n",
       "\n",
       "    .dataframe tbody tr th {\n",
       "        vertical-align: top;\n",
       "    }\n",
       "\n",
       "    .dataframe thead th {\n",
       "        text-align: right;\n",
       "    }\n",
       "</style>\n",
       "<table border=\"1\" class=\"dataframe\">\n",
       "  <thead>\n",
       "    <tr style=\"text-align: right;\">\n",
       "      <th></th>\n",
       "      <th>userId</th>\n",
       "      <th>movieId</th>\n",
       "      <th>rating</th>\n",
       "      <th>timestamp</th>\n",
       "      <th>prediction</th>\n",
       "    </tr>\n",
       "  </thead>\n",
       "  <tbody>\n",
       "    <tr>\n",
       "      <th>19852</th>\n",
       "      <td>156</td>\n",
       "      <td>7</td>\n",
       "      <td>4.0</td>\n",
       "      <td>2002-12-02 03:58:27</td>\n",
       "      <td>3.556394</td>\n",
       "    </tr>\n",
       "    <tr>\n",
       "      <th>19866</th>\n",
       "      <td>156</td>\n",
       "      <td>25</td>\n",
       "      <td>4.0</td>\n",
       "      <td>2002-11-14 19:58:48</td>\n",
       "      <td>4.200179</td>\n",
       "    </tr>\n",
       "    <tr>\n",
       "      <th>19867</th>\n",
       "      <td>156</td>\n",
       "      <td>32</td>\n",
       "      <td>5.0</td>\n",
       "      <td>2002-12-27 22:49:13</td>\n",
       "      <td>4.484650</td>\n",
       "    </tr>\n",
       "    <tr>\n",
       "      <th>19868</th>\n",
       "      <td>156</td>\n",
       "      <td>34</td>\n",
       "      <td>3.0</td>\n",
       "      <td>2002-12-06 19:26:53</td>\n",
       "      <td>4.416884</td>\n",
       "    </tr>\n",
       "    <tr>\n",
       "      <th>19874</th>\n",
       "      <td>156</td>\n",
       "      <td>45</td>\n",
       "      <td>2.0</td>\n",
       "      <td>2002-12-19 20:12:27</td>\n",
       "      <td>3.901085</td>\n",
       "    </tr>\n",
       "    <tr>\n",
       "      <th>...</th>\n",
       "      <td>...</td>\n",
       "      <td>...</td>\n",
       "      <td>...</td>\n",
       "      <td>...</td>\n",
       "      <td>...</td>\n",
       "    </tr>\n",
       "    <tr>\n",
       "      <th>19963096</th>\n",
       "      <td>138208</td>\n",
       "      <td>59315</td>\n",
       "      <td>3.5</td>\n",
       "      <td>2009-01-29 05:52:18</td>\n",
       "      <td>3.230597</td>\n",
       "    </tr>\n",
       "    <tr>\n",
       "      <th>19963113</th>\n",
       "      <td>138208</td>\n",
       "      <td>60684</td>\n",
       "      <td>3.5</td>\n",
       "      <td>2012-03-05 01:08:11</td>\n",
       "      <td>2.884185</td>\n",
       "    </tr>\n",
       "    <tr>\n",
       "      <th>19963190</th>\n",
       "      <td>138208</td>\n",
       "      <td>71535</td>\n",
       "      <td>3.5</td>\n",
       "      <td>2009-12-31 05:53:11</td>\n",
       "      <td>2.971402</td>\n",
       "    </tr>\n",
       "    <tr>\n",
       "      <th>19963231</th>\n",
       "      <td>138208</td>\n",
       "      <td>78499</td>\n",
       "      <td>4.0</td>\n",
       "      <td>2012-03-05 01:08:34</td>\n",
       "      <td>3.469257</td>\n",
       "    </tr>\n",
       "    <tr>\n",
       "      <th>19963240</th>\n",
       "      <td>138208</td>\n",
       "      <td>80463</td>\n",
       "      <td>4.5</td>\n",
       "      <td>2012-03-05 01:10:09</td>\n",
       "      <td>3.471212</td>\n",
       "    </tr>\n",
       "  </tbody>\n",
       "</table>\n",
       "<p>29480 rows × 5 columns</p>\n",
       "</div>"
      ],
      "text/plain": [
       "          userId  movieId  rating            timestamp  prediction\n",
       "19852        156        7     4.0  2002-12-02 03:58:27    3.556394\n",
       "19866        156       25     4.0  2002-11-14 19:58:48    4.200179\n",
       "19867        156       32     5.0  2002-12-27 22:49:13    4.484650\n",
       "19868        156       34     3.0  2002-12-06 19:26:53    4.416884\n",
       "19874        156       45     2.0  2002-12-19 20:12:27    3.901085\n",
       "...          ...      ...     ...                  ...         ...\n",
       "19963096  138208    59315     3.5  2009-01-29 05:52:18    3.230597\n",
       "19963113  138208    60684     3.5  2012-03-05 01:08:11    2.884185\n",
       "19963190  138208    71535     3.5  2009-12-31 05:53:11    2.971402\n",
       "19963231  138208    78499     4.0  2012-03-05 01:08:34    3.469257\n",
       "19963240  138208    80463     4.5  2012-03-05 01:10:09    3.471212\n",
       "\n",
       "[29480 rows x 5 columns]"
      ]
     },
     "execution_count": 342,
     "metadata": {},
     "output_type": "execute_result"
    }
   ],
   "source": [
    "ratings_test[\"prediction\"] = ratings_test.apply(predict_score, axis=1)\n",
    "ratings_test"
   ]
  },
  {
   "cell_type": "code",
   "execution_count": 343,
   "metadata": {},
   "outputs": [],
   "source": [
    "ratings_test[\"prediction\"] = ratings_test[\"prediction\"].apply(lambda x: min(5, max(0, x)))"
   ]
  },
  {
   "cell_type": "code",
   "execution_count": 345,
   "metadata": {},
   "outputs": [
    {
     "data": {
      "text/plain": [
       "0.630261642537201"
      ]
     },
     "execution_count": 345,
     "metadata": {},
     "output_type": "execute_result"
    }
   ],
   "source": [
    "mse_test = ((ratings_test[\"rating\"] - ratings_test[\"prediction\"]) ** 2).mean()\n",
    "mse_test"
   ]
  }
 ],
 "metadata": {
  "kernelspec": {
   "display_name": "collaborative-filtering-cmXn9qe9-py3.11",
   "language": "python",
   "name": "python3"
  },
  "language_info": {
   "codemirror_mode": {
    "name": "ipython",
    "version": 3
   },
   "file_extension": ".py",
   "mimetype": "text/x-python",
   "name": "python",
   "nbconvert_exporter": "python",
   "pygments_lexer": "ipython3",
   "version": "3.11.4"
  }
 },
 "nbformat": 4,
 "nbformat_minor": 2
}
