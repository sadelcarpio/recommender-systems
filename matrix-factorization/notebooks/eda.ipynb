{
 "cells": [
  {
   "cell_type": "markdown",
   "id": "a34c92c29fecf8c8",
   "metadata": {},
   "source": [
    "# Attempts to implement MF on Movielens Dataset"
   ]
  },
  {
   "cell_type": "code",
   "id": "0c66fd81",
   "metadata": {
    "ExecuteTime": {
     "end_time": "2024-06-10T22:28:27.144561Z",
     "start_time": "2024-06-10T22:28:27.115566Z"
    }
   },
   "source": [
    "import sys\n",
    "sys.path.extend(['../../matrix-factorization'])"
   ],
   "outputs": [],
   "execution_count": 1
  },
  {
   "cell_type": "code",
   "id": "4db25e9b15c5063d",
   "metadata": {
    "ExecuteTime": {
     "end_time": "2024-06-10T22:28:29.987136Z",
     "start_time": "2024-06-10T22:28:27.164564Z"
    }
   },
   "source": [
    "import numpy as np\n",
    "import pandas as pd\n",
    "\n",
    "from src.data import Dataset"
   ],
   "outputs": [],
   "execution_count": 2
  },
  {
   "cell_type": "code",
   "id": "44c5f6bf967d39",
   "metadata": {
    "ExecuteTime": {
     "end_time": "2024-06-10T22:28:58.260445Z",
     "start_time": "2024-06-10T22:28:29.992142Z"
    }
   },
   "source": [
    "dataset = Dataset('../movielens-20m-dataset/rating.csv', n_most_users=1000, m_most_items=200)"
   ],
   "outputs": [],
   "execution_count": 3
  },
  {
   "cell_type": "code",
   "id": "665f16d4f4edafd2",
   "metadata": {
    "ExecuteTime": {
     "end_time": "2024-06-10T22:28:58.308400Z",
     "start_time": "2024-06-10T22:28:58.263400Z"
    }
   },
   "source": [
    "dataset.dataset['userIdOrdered'] = dataset.dataset['userId'].astype('category').cat.codes\n",
    "dataset.dataset['movieIdOrdered'] = dataset.dataset['movieId'].astype('category').cat.codes"
   ],
   "outputs": [],
   "execution_count": 4
  },
  {
   "cell_type": "code",
   "id": "56d630d9bab19788",
   "metadata": {
    "ExecuteTime": {
     "end_time": "2024-06-10T22:28:58.386402Z",
     "start_time": "2024-06-10T22:28:58.316403Z"
    }
   },
   "source": [
    "train_dataset, test_dataset = dataset.split_dataset(0.2)"
   ],
   "outputs": [],
   "execution_count": 5
  },
  {
   "cell_type": "code",
   "id": "e4ed9afd677b88e6",
   "metadata": {
    "ExecuteTime": {
     "end_time": "2024-06-10T22:28:58.480400Z",
     "start_time": "2024-06-10T22:28:58.390407Z"
    }
   },
   "source": [
    "train_dataset"
   ],
   "outputs": [
    {
     "data": {
      "text/plain": [
       "        userId  movieId  rating            timestamp  userIdOrdered  \\\n",
       "41027    32984     1210     4.0  2002-06-13 07:28:38            245   \n",
       "161319  133133     2997     5.0  2006-09-05 17:07:52            966   \n",
       "67373    54447     2997     4.5  2005-08-03 18:02:49            402   \n",
       "96329    78356      260     4.5  2010-08-27 17:17:35            575   \n",
       "13711    10560      586     3.0  2005-06-18 03:41:40             81   \n",
       "...        ...      ...     ...                  ...            ...   \n",
       "27030    21391     8961     4.0  2005-04-15 23:26:03            161   \n",
       "39662    32094     7153     4.0  2009-03-04 11:49:03            237   \n",
       "109461   89495     1221     5.0  2015-01-30 01:17:36            653   \n",
       "161836  133811     2797     3.0  2002-01-11 04:48:00            969   \n",
       "130191  108142       47     4.5  2010-04-25 12:31:18            777   \n",
       "\n",
       "        movieIdOrdered  \n",
       "41027              104  \n",
       "161319             167  \n",
       "67373              167  \n",
       "96329               31  \n",
       "13711               64  \n",
       "...                ...  \n",
       "27030              197  \n",
       "39662              194  \n",
       "109461             109  \n",
       "161836             161  \n",
       "130191              14  \n",
       "\n",
       "[133618 rows x 6 columns]"
      ],
      "text/html": [
       "<div>\n",
       "<style scoped>\n",
       "    .dataframe tbody tr th:only-of-type {\n",
       "        vertical-align: middle;\n",
       "    }\n",
       "\n",
       "    .dataframe tbody tr th {\n",
       "        vertical-align: top;\n",
       "    }\n",
       "\n",
       "    .dataframe thead th {\n",
       "        text-align: right;\n",
       "    }\n",
       "</style>\n",
       "<table border=\"1\" class=\"dataframe\">\n",
       "  <thead>\n",
       "    <tr style=\"text-align: right;\">\n",
       "      <th></th>\n",
       "      <th>userId</th>\n",
       "      <th>movieId</th>\n",
       "      <th>rating</th>\n",
       "      <th>timestamp</th>\n",
       "      <th>userIdOrdered</th>\n",
       "      <th>movieIdOrdered</th>\n",
       "    </tr>\n",
       "  </thead>\n",
       "  <tbody>\n",
       "    <tr>\n",
       "      <th>41027</th>\n",
       "      <td>32984</td>\n",
       "      <td>1210</td>\n",
       "      <td>4.0</td>\n",
       "      <td>2002-06-13 07:28:38</td>\n",
       "      <td>245</td>\n",
       "      <td>104</td>\n",
       "    </tr>\n",
       "    <tr>\n",
       "      <th>161319</th>\n",
       "      <td>133133</td>\n",
       "      <td>2997</td>\n",
       "      <td>5.0</td>\n",
       "      <td>2006-09-05 17:07:52</td>\n",
       "      <td>966</td>\n",
       "      <td>167</td>\n",
       "    </tr>\n",
       "    <tr>\n",
       "      <th>67373</th>\n",
       "      <td>54447</td>\n",
       "      <td>2997</td>\n",
       "      <td>4.5</td>\n",
       "      <td>2005-08-03 18:02:49</td>\n",
       "      <td>402</td>\n",
       "      <td>167</td>\n",
       "    </tr>\n",
       "    <tr>\n",
       "      <th>96329</th>\n",
       "      <td>78356</td>\n",
       "      <td>260</td>\n",
       "      <td>4.5</td>\n",
       "      <td>2010-08-27 17:17:35</td>\n",
       "      <td>575</td>\n",
       "      <td>31</td>\n",
       "    </tr>\n",
       "    <tr>\n",
       "      <th>13711</th>\n",
       "      <td>10560</td>\n",
       "      <td>586</td>\n",
       "      <td>3.0</td>\n",
       "      <td>2005-06-18 03:41:40</td>\n",
       "      <td>81</td>\n",
       "      <td>64</td>\n",
       "    </tr>\n",
       "    <tr>\n",
       "      <th>...</th>\n",
       "      <td>...</td>\n",
       "      <td>...</td>\n",
       "      <td>...</td>\n",
       "      <td>...</td>\n",
       "      <td>...</td>\n",
       "      <td>...</td>\n",
       "    </tr>\n",
       "    <tr>\n",
       "      <th>27030</th>\n",
       "      <td>21391</td>\n",
       "      <td>8961</td>\n",
       "      <td>4.0</td>\n",
       "      <td>2005-04-15 23:26:03</td>\n",
       "      <td>161</td>\n",
       "      <td>197</td>\n",
       "    </tr>\n",
       "    <tr>\n",
       "      <th>39662</th>\n",
       "      <td>32094</td>\n",
       "      <td>7153</td>\n",
       "      <td>4.0</td>\n",
       "      <td>2009-03-04 11:49:03</td>\n",
       "      <td>237</td>\n",
       "      <td>194</td>\n",
       "    </tr>\n",
       "    <tr>\n",
       "      <th>109461</th>\n",
       "      <td>89495</td>\n",
       "      <td>1221</td>\n",
       "      <td>5.0</td>\n",
       "      <td>2015-01-30 01:17:36</td>\n",
       "      <td>653</td>\n",
       "      <td>109</td>\n",
       "    </tr>\n",
       "    <tr>\n",
       "      <th>161836</th>\n",
       "      <td>133811</td>\n",
       "      <td>2797</td>\n",
       "      <td>3.0</td>\n",
       "      <td>2002-01-11 04:48:00</td>\n",
       "      <td>969</td>\n",
       "      <td>161</td>\n",
       "    </tr>\n",
       "    <tr>\n",
       "      <th>130191</th>\n",
       "      <td>108142</td>\n",
       "      <td>47</td>\n",
       "      <td>4.5</td>\n",
       "      <td>2010-04-25 12:31:18</td>\n",
       "      <td>777</td>\n",
       "      <td>14</td>\n",
       "    </tr>\n",
       "  </tbody>\n",
       "</table>\n",
       "<p>133618 rows × 6 columns</p>\n",
       "</div>"
      ]
     },
     "execution_count": 6,
     "metadata": {},
     "output_type": "execute_result"
    }
   ],
   "execution_count": 6
  },
  {
   "cell_type": "code",
   "id": "795ba9052fcfcfc5",
   "metadata": {
    "ExecuteTime": {
     "end_time": "2024-06-10T22:28:58.529401Z",
     "start_time": "2024-06-10T22:28:58.489400Z"
    }
   },
   "source": [
    "M = train_dataset.movieId.nunique()\n",
    "N = train_dataset.userId.nunique()"
   ],
   "outputs": [],
   "execution_count": 7
  },
  {
   "cell_type": "code",
   "id": "7b62ac8e69ab0df9",
   "metadata": {
    "ExecuteTime": {
     "end_time": "2024-06-10T22:29:00.392404Z",
     "start_time": "2024-06-10T22:28:58.632401Z"
    }
   },
   "source": [
    "items_per_user = train_dataset.groupby(\"userIdOrdered\").apply(\n",
    "    lambda x: pd.Series({'ratedMovies': dict(zip(x[\"movieIdOrdered\"], x[\"rating\"])),\n",
    "                         'meanRating': x[\"rating\"].mean()}), include_groups=False)\n",
    "users_per_item = train_dataset.groupby(\"movieIdOrdered\").apply(\n",
    "    lambda x: pd.Series({'usersRated': dict(zip(x[\"userIdOrdered\"], x[\"rating\"])),\n",
    "                         'meanRating': x[\"rating\"].mean()}), include_groups=False)"
   ],
   "outputs": [],
   "execution_count": 10
  },
  {
   "cell_type": "code",
   "id": "d1a2c78e6e9f1a34",
   "metadata": {
    "ExecuteTime": {
     "end_time": "2024-06-10T22:29:00.440402Z",
     "start_time": "2024-06-10T22:29:00.398402Z"
    }
   },
   "source": [
    "items_per_user"
   ],
   "outputs": [
    {
     "data": {
      "text/plain": [
       "                                                     ratedMovies  meanRating\n",
       "userIdOrdered                                                               \n",
       "0              {40: 4.0, 104: 5.0, 146: 5.0, 24: 4.0, 167: 3....    4.381890\n",
       "1              {199: 3.5, 61: 4.0, 139: 3.5, 167: 4.5, 66: 4....    3.684615\n",
       "2              {43: 4.0, 51: 4.0, 199: 4.0, 121: 4.5, 65: 4.0...    4.003846\n",
       "3              {47: 4.5, 156: 4.0, 13: 3.5, 199: 4.0, 48: 5.0...    4.084112\n",
       "4              {88: 4.5, 103: 3.5, 10: 4.0, 21: 2.5, 87: 5.0,...    3.626667\n",
       "...                                                          ...         ...\n",
       "995            {88: 3.5, 65: 3.5, 28: 4.0, 136: 3.0, 167: 3.0...    3.346429\n",
       "996            {196: 4.0, 39: 3.0, 33: 3.0, 172: 4.5, 157: 3....    4.139752\n",
       "997            {41: 2.0, 15: 5.0, 78: 3.0, 146: 2.0, 93: 3.0,...    3.537190\n",
       "998            {92: 4.0, 6: 4.0, 47: 3.0, 189: 5.0, 72: 4.0, ...    3.196667\n",
       "999            {97: 4.5, 194: 4.5, 11: 4.0, 168: 4.5, 109: 4....    4.338462\n",
       "\n",
       "[1000 rows x 2 columns]"
      ],
      "text/html": [
       "<div>\n",
       "<style scoped>\n",
       "    .dataframe tbody tr th:only-of-type {\n",
       "        vertical-align: middle;\n",
       "    }\n",
       "\n",
       "    .dataframe tbody tr th {\n",
       "        vertical-align: top;\n",
       "    }\n",
       "\n",
       "    .dataframe thead th {\n",
       "        text-align: right;\n",
       "    }\n",
       "</style>\n",
       "<table border=\"1\" class=\"dataframe\">\n",
       "  <thead>\n",
       "    <tr style=\"text-align: right;\">\n",
       "      <th></th>\n",
       "      <th>ratedMovies</th>\n",
       "      <th>meanRating</th>\n",
       "    </tr>\n",
       "    <tr>\n",
       "      <th>userIdOrdered</th>\n",
       "      <th></th>\n",
       "      <th></th>\n",
       "    </tr>\n",
       "  </thead>\n",
       "  <tbody>\n",
       "    <tr>\n",
       "      <th>0</th>\n",
       "      <td>{40: 4.0, 104: 5.0, 146: 5.0, 24: 4.0, 167: 3....</td>\n",
       "      <td>4.381890</td>\n",
       "    </tr>\n",
       "    <tr>\n",
       "      <th>1</th>\n",
       "      <td>{199: 3.5, 61: 4.0, 139: 3.5, 167: 4.5, 66: 4....</td>\n",
       "      <td>3.684615</td>\n",
       "    </tr>\n",
       "    <tr>\n",
       "      <th>2</th>\n",
       "      <td>{43: 4.0, 51: 4.0, 199: 4.0, 121: 4.5, 65: 4.0...</td>\n",
       "      <td>4.003846</td>\n",
       "    </tr>\n",
       "    <tr>\n",
       "      <th>3</th>\n",
       "      <td>{47: 4.5, 156: 4.0, 13: 3.5, 199: 4.0, 48: 5.0...</td>\n",
       "      <td>4.084112</td>\n",
       "    </tr>\n",
       "    <tr>\n",
       "      <th>4</th>\n",
       "      <td>{88: 4.5, 103: 3.5, 10: 4.0, 21: 2.5, 87: 5.0,...</td>\n",
       "      <td>3.626667</td>\n",
       "    </tr>\n",
       "    <tr>\n",
       "      <th>...</th>\n",
       "      <td>...</td>\n",
       "      <td>...</td>\n",
       "    </tr>\n",
       "    <tr>\n",
       "      <th>995</th>\n",
       "      <td>{88: 3.5, 65: 3.5, 28: 4.0, 136: 3.0, 167: 3.0...</td>\n",
       "      <td>3.346429</td>\n",
       "    </tr>\n",
       "    <tr>\n",
       "      <th>996</th>\n",
       "      <td>{196: 4.0, 39: 3.0, 33: 3.0, 172: 4.5, 157: 3....</td>\n",
       "      <td>4.139752</td>\n",
       "    </tr>\n",
       "    <tr>\n",
       "      <th>997</th>\n",
       "      <td>{41: 2.0, 15: 5.0, 78: 3.0, 146: 2.0, 93: 3.0,...</td>\n",
       "      <td>3.537190</td>\n",
       "    </tr>\n",
       "    <tr>\n",
       "      <th>998</th>\n",
       "      <td>{92: 4.0, 6: 4.0, 47: 3.0, 189: 5.0, 72: 4.0, ...</td>\n",
       "      <td>3.196667</td>\n",
       "    </tr>\n",
       "    <tr>\n",
       "      <th>999</th>\n",
       "      <td>{97: 4.5, 194: 4.5, 11: 4.0, 168: 4.5, 109: 4....</td>\n",
       "      <td>4.338462</td>\n",
       "    </tr>\n",
       "  </tbody>\n",
       "</table>\n",
       "<p>1000 rows × 2 columns</p>\n",
       "</div>"
      ]
     },
     "execution_count": 11,
     "metadata": {},
     "output_type": "execute_result"
    }
   ],
   "execution_count": 11
  },
  {
   "cell_type": "code",
   "id": "3f98ba90ec26f6f1",
   "metadata": {
    "ExecuteTime": {
     "end_time": "2024-06-10T23:43:49.202797Z",
     "start_time": "2024-06-10T23:43:49.176805Z"
    }
   },
   "source": [
    "def train(K):  # K: hyperparameter\n",
    "    losses = []\n",
    "    W, U = np.random.randn(N, K), np.random.randn(M, K)\n",
    "    for t in range(10):\n",
    "        print(f\"Iteration {t + 1}\")\n",
    "        for user_id in items_per_user.index:\n",
    "            items_rated_user_id = items_per_user.loc[user_id].ratedMovies \n",
    "            u = U[list(items_rated_user_id.keys())]\n",
    "            ratings_w = np.array(list(items_rated_user_id.values()))\n",
    "            A_w = np.dot(u.T, u)\n",
    "            b_w = np.dot(ratings_w, u)\n",
    "            W[user_id] = np.linalg.solve(A_w, b_w)\n",
    "        for item_id in users_per_item.index:\n",
    "            users_rated_item_id = users_per_item.loc[item_id].usersRated\n",
    "            w = W[list(users_rated_item_id.keys())]\n",
    "            ratings_u = np.array(list(users_rated_item_id.values()))\n",
    "            A_u = np.dot(w.T, w)\n",
    "            b_u = np.dot(ratings_u, w)\n",
    "            U[item_id] = np.linalg.solve(A_u, b_u)\n",
    "        # Calculate loss function\n",
    "        loss = 0\n",
    "        for index, row in train_dataset.iterrows():\n",
    "            user_id = row['userIdOrdered']\n",
    "            item_id = row['movieIdOrdered']\n",
    "            loss += (row[\"rating\"] - np.dot(W[user_id], U[item_id].T)) ** 2\n",
    "        loss = np.sqrt(loss / len(train_dataset))\n",
    "        losses.append(loss)\n",
    "        print(f\"Loss for iteration {t + 1}: {loss}\")\n",
    "    return losses"
   ],
   "outputs": [],
   "execution_count": 39
  },
  {
   "metadata": {
    "ExecuteTime": {
     "end_time": "2024-06-10T23:57:40.009674Z",
     "start_time": "2024-06-10T23:47:00.625374Z"
    }
   },
   "cell_type": "code",
   "source": [
    "losses = {}\n",
    "for k in [5, 10, 20, 30, 50, 100]:\n",
    "    losses[k] = train(k)"
   ],
   "id": "bb7b510f8651720e",
   "outputs": [
    {
     "name": "stdout",
     "output_type": "stream",
     "text": [
      "Iteration 1\n",
      "Loss for iteration 1: 1.3191649141643504\n",
      "Iteration 2\n",
      "Loss for iteration 2: 0.7254389214901595\n",
      "Iteration 3\n",
      "Loss for iteration 3: 0.7170626151831985\n",
      "Iteration 4\n",
      "Loss for iteration 4: 0.7150781151235533\n",
      "Iteration 5\n",
      "Loss for iteration 5: 0.7141305388158534\n",
      "Iteration 6\n",
      "Loss for iteration 6: 0.7134954306282605\n",
      "Iteration 7\n",
      "Loss for iteration 7: 0.7130174464714368\n",
      "Iteration 8\n",
      "Loss for iteration 8: 0.712645636052736\n",
      "Iteration 9\n",
      "Loss for iteration 9: 0.7123554254784153\n",
      "Iteration 10\n",
      "Loss for iteration 10: 0.7121306368406489\n",
      "Iteration 1\n",
      "Loss for iteration 1: 1.1168993185516203\n",
      "Iteration 2\n",
      "Loss for iteration 2: 0.6913042631086727\n",
      "Iteration 3\n",
      "Loss for iteration 3: 0.6732583743998002\n",
      "Iteration 4\n",
      "Loss for iteration 4: 0.6668710024779825\n",
      "Iteration 5\n",
      "Loss for iteration 5: 0.6636698983726268\n",
      "Iteration 6\n",
      "Loss for iteration 6: 0.6619550023632726\n",
      "Iteration 7\n",
      "Loss for iteration 7: 0.660978360301456\n",
      "Iteration 8\n",
      "Loss for iteration 8: 0.6603710882628997\n",
      "Iteration 9\n",
      "Loss for iteration 9: 0.6599664712926244\n",
      "Iteration 10\n",
      "Loss for iteration 10: 0.6596847859951378\n",
      "Iteration 1\n",
      "Loss for iteration 1: 0.9624353434789846\n",
      "Iteration 2\n",
      "Loss for iteration 2: 0.6296364161464478\n",
      "Iteration 3\n",
      "Loss for iteration 3: 0.6054211563234551\n",
      "Iteration 4\n",
      "Loss for iteration 4: 0.5973184723446902\n",
      "Iteration 5\n",
      "Loss for iteration 5: 0.5936690027635846\n",
      "Iteration 6\n",
      "Loss for iteration 6: 0.5916771649833886\n",
      "Iteration 7\n",
      "Loss for iteration 7: 0.5904195529813601\n",
      "Iteration 8\n",
      "Loss for iteration 8: 0.5895545165962731\n",
      "Iteration 9\n",
      "Loss for iteration 9: 0.5889340649593676\n",
      "Iteration 10\n",
      "Loss for iteration 10: 0.588474278614957\n",
      "Iteration 1\n",
      "Loss for iteration 1: 0.8103768276855284\n",
      "Iteration 2\n",
      "Loss for iteration 2: 0.5809781088160534\n",
      "Iteration 3\n",
      "Loss for iteration 3: 0.5538848986801252\n",
      "Iteration 4\n",
      "Loss for iteration 4: 0.5432254665704424\n",
      "Iteration 5\n",
      "Loss for iteration 5: 0.5379909236361896\n",
      "Iteration 6\n",
      "Loss for iteration 6: 0.5348201299018182\n",
      "Iteration 7\n",
      "Loss for iteration 7: 0.5326307675065067\n",
      "Iteration 8\n",
      "Loss for iteration 8: 0.5310064797008915\n",
      "Iteration 9\n",
      "Loss for iteration 9: 0.529766307013548\n",
      "Iteration 10\n",
      "Loss for iteration 10: 0.5288040567603671\n",
      "Iteration 1\n",
      "Loss for iteration 1: 0.8425394457913342\n",
      "Iteration 2\n",
      "Loss for iteration 2: 0.494382643778907\n",
      "Iteration 3\n",
      "Loss for iteration 3: 0.45910332852110103\n",
      "Iteration 4\n",
      "Loss for iteration 4: 0.4437010149120518\n",
      "Iteration 5\n",
      "Loss for iteration 5: 0.43546198694117844\n",
      "Iteration 6\n",
      "Loss for iteration 6: 0.4303216787850828\n",
      "Iteration 7\n",
      "Loss for iteration 7: 0.4267344903704916\n",
      "Iteration 8\n",
      "Loss for iteration 8: 0.42406274058343774\n",
      "Iteration 9\n",
      "Loss for iteration 9: 0.42199558609998516\n",
      "Iteration 10\n",
      "Loss for iteration 10: 0.4203532897941733\n",
      "Iteration 1\n",
      "Loss for iteration 1: 0.7814470942957358\n",
      "Iteration 2\n",
      "Loss for iteration 2: 0.33589068305035813\n",
      "Iteration 3\n",
      "Loss for iteration 3: 0.28910667605171714\n",
      "Iteration 4\n",
      "Loss for iteration 4: 0.2639731737823991\n",
      "Iteration 5\n",
      "Loss for iteration 5: 0.24781651881180083\n",
      "Iteration 6\n",
      "Loss for iteration 6: 0.2364758629406773\n",
      "Iteration 7\n",
      "Loss for iteration 7: 0.22774590650640245\n",
      "Iteration 8\n",
      "Loss for iteration 8: 0.22066574322197938\n",
      "Iteration 9\n",
      "Loss for iteration 9: 0.2148452415144943\n",
      "Iteration 10\n",
      "Loss for iteration 10: 0.21001196726202967\n"
     ]
    }
   ],
   "execution_count": 40
  },
  {
   "cell_type": "code",
   "id": "a3c7ae0c",
   "metadata": {
    "ExecuteTime": {
     "end_time": "2024-06-11T00:07:12.827319Z",
     "start_time": "2024-06-11T00:07:12.809269Z"
    }
   },
   "source": "import matplotlib.pyplot as plt",
   "outputs": [],
   "execution_count": 64
  },
  {
   "metadata": {
    "ExecuteTime": {
     "end_time": "2024-06-11T00:07:13.733820Z",
     "start_time": "2024-06-11T00:07:13.417257Z"
    }
   },
   "cell_type": "code",
   "source": [
    "for k in losses.keys():\n",
    "    plt.plot(losses[k], label=f\"K = {k}\")\n",
    "    plt.legend()\n",
    "plt.title(\"Training Loss vs Number of Latent Features (K)\")\n",
    "plt.xlabel(\"K\")\n",
    "plt.ylabel(r\"$L = \\sqrt{(\\frac{1}{\\Omega}\\sum{(r(i, j) - w_{i}u_{j}^T)^2)}}$\")\n",
    "plt.show()"
   ],
   "id": "59468c2fffabd251",
   "outputs": [
    {
     "data": {
      "text/plain": [
       "<Figure size 640x480 with 1 Axes>"
      ],
      "image/png": "[encoded data removed]"
     },
     "metadata": {},
     "output_type": "display_data"
    }
   ],
   "execution_count": 65
  },
  {
   "metadata": {},
   "cell_type": "code",
   "outputs": [],
   "execution_count": null,
   "source": "",
   "id": "398a994d992b4541"
  }
 ],
 "metadata": {
  "kernelspec": {
   "display_name": "Python 3",
   "language": "python",
   "name": "python3"
  },
  "language_info": {
   "codemirror_mode": {
    "name": "ipython",
    "version": 3
   },
   "file_extension": ".py",
   "mimetype": "text/x-python",
   "name": "python",
   "nbconvert_exporter": "python",
   "pygments_lexer": "ipython3",
   "version": "3.10.8"
  }
 },
 "nbformat": 4,
 "nbformat_minor": 5
}
