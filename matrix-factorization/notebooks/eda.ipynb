{
 "cells": [
  {
   "metadata": {},
   "cell_type": "markdown",
   "source": "# Attempts to implement MF on Movielens Dataset",
   "id": "a34c92c29fecf8c8"
  },
  {
   "metadata": {
    "ExecuteTime": {
     "end_time": "2024-06-10T03:39:10.539503Z",
     "start_time": "2024-06-10T03:39:08.605905Z"
    }
   },
   "cell_type": "code",
   "source": [
    "import numpy as np\n",
    "import pandas as pd\n",
    "\n",
    "from src.data import Dataset"
   ],
   "id": "4db25e9b15c5063d",
   "outputs": [],
   "execution_count": 1
  },
  {
   "metadata": {
    "ExecuteTime": {
     "end_time": "2024-06-10T03:42:09.174674Z",
     "start_time": "2024-06-10T03:39:33.470891Z"
    }
   },
   "cell_type": "code",
   "source": "dataset = Dataset('../movielens-20m-dataset/rating.csv', n_most_users=1000, m_most_items=200)",
   "id": "44c5f6bf967d39",
   "outputs": [],
   "execution_count": 2
  },
  {
   "metadata": {
    "ExecuteTime": {
     "end_time": "2024-06-10T03:42:15.233958Z",
     "start_time": "2024-06-10T03:42:15.189959Z"
    }
   },
   "cell_type": "code",
   "source": [
    "dataset.dataset['userIdOrdered'] = dataset.dataset['userId'].astype('category').cat.codes\n",
    "dataset.dataset['movieIdOrdered'] = dataset.dataset['movieId'].astype('category').cat.codes\n",
    "dataset.dataset = dataset.dataset.reset_index(drop=True)"
   ],
   "id": "665f16d4f4edafd2",
   "outputs": [],
   "execution_count": 3
  },
  {
   "metadata": {
    "ExecuteTime": {
     "end_time": "2024-06-10T03:42:16.357388Z",
     "start_time": "2024-06-10T03:42:16.272391Z"
    }
   },
   "cell_type": "code",
   "source": "train_dataset, test_dataset = dataset.split_dataset(0.2)",
   "id": "56d630d9bab19788",
   "outputs": [],
   "execution_count": 4
  },
  {
   "metadata": {
    "ExecuteTime": {
     "end_time": "2024-06-10T03:42:17.230408Z",
     "start_time": "2024-06-10T03:42:17.170393Z"
    }
   },
   "cell_type": "code",
   "source": "train_dataset",
   "id": "e4ed9afd677b88e6",
   "outputs": [
    {
     "data": {
      "text/plain": [
       "        userId  movieId  rating            timestamp  userIdOrdered  \\\n",
       "41027    32984     1210     4.0  2002-06-13 07:28:38            245   \n",
       "161319  133133     2997     5.0  2006-09-05 17:07:52            966   \n",
       "67373    54447     2997     4.5  2005-08-03 18:02:49            402   \n",
       "96329    78356      260     4.5  2010-08-27 17:17:35            575   \n",
       "13711    10560      586     3.0  2005-06-18 03:41:40             81   \n",
       "...        ...      ...     ...                  ...            ...   \n",
       "27030    21391     8961     4.0  2005-04-15 23:26:03            161   \n",
       "39662    32094     7153     4.0  2009-03-04 11:49:03            237   \n",
       "109461   89495     1221     5.0  2015-01-30 01:17:36            653   \n",
       "161836  133811     2797     3.0  2002-01-11 04:48:00            969   \n",
       "130191  108142       47     4.5  2010-04-25 12:31:18            777   \n",
       "\n",
       "        movieIdOrdered  \n",
       "41027              104  \n",
       "161319             167  \n",
       "67373              167  \n",
       "96329               31  \n",
       "13711               64  \n",
       "...                ...  \n",
       "27030              197  \n",
       "39662              194  \n",
       "109461             109  \n",
       "161836             161  \n",
       "130191              14  \n",
       "\n",
       "[133618 rows x 6 columns]"
      ],
      "text/html": [
       "<div>\n",
       "<style scoped>\n",
       "    .dataframe tbody tr th:only-of-type {\n",
       "        vertical-align: middle;\n",
       "    }\n",
       "\n",
       "    .dataframe tbody tr th {\n",
       "        vertical-align: top;\n",
       "    }\n",
       "\n",
       "    .dataframe thead th {\n",
       "        text-align: right;\n",
       "    }\n",
       "</style>\n",
       "<table border=\"1\" class=\"dataframe\">\n",
       "  <thead>\n",
       "    <tr style=\"text-align: right;\">\n",
       "      <th></th>\n",
       "      <th>userId</th>\n",
       "      <th>movieId</th>\n",
       "      <th>rating</th>\n",
       "      <th>timestamp</th>\n",
       "      <th>userIdOrdered</th>\n",
       "      <th>movieIdOrdered</th>\n",
       "    </tr>\n",
       "  </thead>\n",
       "  <tbody>\n",
       "    <tr>\n",
       "      <th>41027</th>\n",
       "      <td>32984</td>\n",
       "      <td>1210</td>\n",
       "      <td>4.0</td>\n",
       "      <td>2002-06-13 07:28:38</td>\n",
       "      <td>245</td>\n",
       "      <td>104</td>\n",
       "    </tr>\n",
       "    <tr>\n",
       "      <th>161319</th>\n",
       "      <td>133133</td>\n",
       "      <td>2997</td>\n",
       "      <td>5.0</td>\n",
       "      <td>2006-09-05 17:07:52</td>\n",
       "      <td>966</td>\n",
       "      <td>167</td>\n",
       "    </tr>\n",
       "    <tr>\n",
       "      <th>67373</th>\n",
       "      <td>54447</td>\n",
       "      <td>2997</td>\n",
       "      <td>4.5</td>\n",
       "      <td>2005-08-03 18:02:49</td>\n",
       "      <td>402</td>\n",
       "      <td>167</td>\n",
       "    </tr>\n",
       "    <tr>\n",
       "      <th>96329</th>\n",
       "      <td>78356</td>\n",
       "      <td>260</td>\n",
       "      <td>4.5</td>\n",
       "      <td>2010-08-27 17:17:35</td>\n",
       "      <td>575</td>\n",
       "      <td>31</td>\n",
       "    </tr>\n",
       "    <tr>\n",
       "      <th>13711</th>\n",
       "      <td>10560</td>\n",
       "      <td>586</td>\n",
       "      <td>3.0</td>\n",
       "      <td>2005-06-18 03:41:40</td>\n",
       "      <td>81</td>\n",
       "      <td>64</td>\n",
       "    </tr>\n",
       "    <tr>\n",
       "      <th>...</th>\n",
       "      <td>...</td>\n",
       "      <td>...</td>\n",
       "      <td>...</td>\n",
       "      <td>...</td>\n",
       "      <td>...</td>\n",
       "      <td>...</td>\n",
       "    </tr>\n",
       "    <tr>\n",
       "      <th>27030</th>\n",
       "      <td>21391</td>\n",
       "      <td>8961</td>\n",
       "      <td>4.0</td>\n",
       "      <td>2005-04-15 23:26:03</td>\n",
       "      <td>161</td>\n",
       "      <td>197</td>\n",
       "    </tr>\n",
       "    <tr>\n",
       "      <th>39662</th>\n",
       "      <td>32094</td>\n",
       "      <td>7153</td>\n",
       "      <td>4.0</td>\n",
       "      <td>2009-03-04 11:49:03</td>\n",
       "      <td>237</td>\n",
       "      <td>194</td>\n",
       "    </tr>\n",
       "    <tr>\n",
       "      <th>109461</th>\n",
       "      <td>89495</td>\n",
       "      <td>1221</td>\n",
       "      <td>5.0</td>\n",
       "      <td>2015-01-30 01:17:36</td>\n",
       "      <td>653</td>\n",
       "      <td>109</td>\n",
       "    </tr>\n",
       "    <tr>\n",
       "      <th>161836</th>\n",
       "      <td>133811</td>\n",
       "      <td>2797</td>\n",
       "      <td>3.0</td>\n",
       "      <td>2002-01-11 04:48:00</td>\n",
       "      <td>969</td>\n",
       "      <td>161</td>\n",
       "    </tr>\n",
       "    <tr>\n",
       "      <th>130191</th>\n",
       "      <td>108142</td>\n",
       "      <td>47</td>\n",
       "      <td>4.5</td>\n",
       "      <td>2010-04-25 12:31:18</td>\n",
       "      <td>777</td>\n",
       "      <td>14</td>\n",
       "    </tr>\n",
       "  </tbody>\n",
       "</table>\n",
       "<p>133618 rows × 6 columns</p>\n",
       "</div>"
      ]
     },
     "execution_count": 5,
     "metadata": {},
     "output_type": "execute_result"
    }
   ],
   "execution_count": 5
  },
  {
   "metadata": {
    "ExecuteTime": {
     "end_time": "2024-06-10T03:42:18.499388Z",
     "start_time": "2024-06-10T03:42:18.472395Z"
    }
   },
   "cell_type": "code",
   "source": [
    "M = train_dataset.movieId.nunique()\n",
    "N = train_dataset.userId.nunique()"
   ],
   "id": "795ba9052fcfcfc5",
   "outputs": [],
   "execution_count": 6
  },
  {
   "metadata": {
    "ExecuteTime": {
     "end_time": "2024-06-10T03:42:19.405069Z",
     "start_time": "2024-06-10T03:42:19.392899Z"
    }
   },
   "cell_type": "code",
   "source": [
    "# Hyperparameter\n",
    "K = 10"
   ],
   "id": "32382b3a969deef5",
   "outputs": [],
   "execution_count": 7
  },
  {
   "metadata": {
    "ExecuteTime": {
     "end_time": "2024-06-10T03:42:19.921635Z",
     "start_time": "2024-06-10T03:42:19.910635Z"
    }
   },
   "cell_type": "code",
   "source": "W, U = np.random.randn(N, K), np.random.randn(M, K)",
   "id": "2a876c0724f21c75",
   "outputs": [],
   "execution_count": 8
  },
  {
   "metadata": {
    "ExecuteTime": {
     "end_time": "2024-06-10T03:42:21.684308Z",
     "start_time": "2024-06-10T03:42:20.405293Z"
    }
   },
   "cell_type": "code",
   "source": [
    "items_per_user = train_dataset.groupby(\"userIdOrdered\").apply(\n",
    "    lambda x: pd.Series({'ratedMovies': dict(zip(x[\"movieIdOrdered\"], x[\"rating\"])),\n",
    "                         'meanRating': x[\"rating\"].mean()}), include_groups=False)\n",
    "users_per_item = train_dataset.groupby(\"movieIdOrdered\").apply(\n",
    "    lambda x: pd.Series({'usersRated': dict(zip(x[\"userIdOrdered\"], x[\"rating\"])),\n",
    "                         'meanRating': x[\"rating\"].mean()}), include_groups=False)"
   ],
   "id": "7b62ac8e69ab0df9",
   "outputs": [],
   "execution_count": 9
  },
  {
   "metadata": {
    "ExecuteTime": {
     "end_time": "2024-06-10T03:42:21.936371Z",
     "start_time": "2024-06-10T03:42:21.892372Z"
    }
   },
   "cell_type": "code",
   "source": "items_per_user",
   "id": "d1a2c78e6e9f1a34",
   "outputs": [
    {
     "data": {
      "text/plain": [
       "                                                     ratedMovies  meanRating\n",
       "userIdOrdered                                                               \n",
       "0              {40: 4.0, 104: 5.0, 146: 5.0, 24: 4.0, 167: 3....    4.381890\n",
       "1              {199: 3.5, 61: 4.0, 139: 3.5, 167: 4.5, 66: 4....    3.684615\n",
       "2              {43: 4.0, 51: 4.0, 199: 4.0, 121: 4.5, 65: 4.0...    4.003846\n",
       "3              {47: 4.5, 156: 4.0, 13: 3.5, 199: 4.0, 48: 5.0...    4.084112\n",
       "4              {88: 4.5, 103: 3.5, 10: 4.0, 21: 2.5, 87: 5.0,...    3.626667\n",
       "...                                                          ...         ...\n",
       "995            {88: 3.5, 65: 3.5, 28: 4.0, 136: 3.0, 167: 3.0...    3.346429\n",
       "996            {196: 4.0, 39: 3.0, 33: 3.0, 172: 4.5, 157: 3....    4.139752\n",
       "997            {41: 2.0, 15: 5.0, 78: 3.0, 146: 2.0, 93: 3.0,...    3.537190\n",
       "998            {92: 4.0, 6: 4.0, 47: 3.0, 189: 5.0, 72: 4.0, ...    3.196667\n",
       "999            {97: 4.5, 194: 4.5, 11: 4.0, 168: 4.5, 109: 4....    4.338462\n",
       "\n",
       "[1000 rows x 2 columns]"
      ],
      "text/html": [
       "<div>\n",
       "<style scoped>\n",
       "    .dataframe tbody tr th:only-of-type {\n",
       "        vertical-align: middle;\n",
       "    }\n",
       "\n",
       "    .dataframe tbody tr th {\n",
       "        vertical-align: top;\n",
       "    }\n",
       "\n",
       "    .dataframe thead th {\n",
       "        text-align: right;\n",
       "    }\n",
       "</style>\n",
       "<table border=\"1\" class=\"dataframe\">\n",
       "  <thead>\n",
       "    <tr style=\"text-align: right;\">\n",
       "      <th></th>\n",
       "      <th>ratedMovies</th>\n",
       "      <th>meanRating</th>\n",
       "    </tr>\n",
       "    <tr>\n",
       "      <th>userIdOrdered</th>\n",
       "      <th></th>\n",
       "      <th></th>\n",
       "    </tr>\n",
       "  </thead>\n",
       "  <tbody>\n",
       "    <tr>\n",
       "      <th>0</th>\n",
       "      <td>{40: 4.0, 104: 5.0, 146: 5.0, 24: 4.0, 167: 3....</td>\n",
       "      <td>4.381890</td>\n",
       "    </tr>\n",
       "    <tr>\n",
       "      <th>1</th>\n",
       "      <td>{199: 3.5, 61: 4.0, 139: 3.5, 167: 4.5, 66: 4....</td>\n",
       "      <td>3.684615</td>\n",
       "    </tr>\n",
       "    <tr>\n",
       "      <th>2</th>\n",
       "      <td>{43: 4.0, 51: 4.0, 199: 4.0, 121: 4.5, 65: 4.0...</td>\n",
       "      <td>4.003846</td>\n",
       "    </tr>\n",
       "    <tr>\n",
       "      <th>3</th>\n",
       "      <td>{47: 4.5, 156: 4.0, 13: 3.5, 199: 4.0, 48: 5.0...</td>\n",
       "      <td>4.084112</td>\n",
       "    </tr>\n",
       "    <tr>\n",
       "      <th>4</th>\n",
       "      <td>{88: 4.5, 103: 3.5, 10: 4.0, 21: 2.5, 87: 5.0,...</td>\n",
       "      <td>3.626667</td>\n",
       "    </tr>\n",
       "    <tr>\n",
       "      <th>...</th>\n",
       "      <td>...</td>\n",
       "      <td>...</td>\n",
       "    </tr>\n",
       "    <tr>\n",
       "      <th>995</th>\n",
       "      <td>{88: 3.5, 65: 3.5, 28: 4.0, 136: 3.0, 167: 3.0...</td>\n",
       "      <td>3.346429</td>\n",
       "    </tr>\n",
       "    <tr>\n",
       "      <th>996</th>\n",
       "      <td>{196: 4.0, 39: 3.0, 33: 3.0, 172: 4.5, 157: 3....</td>\n",
       "      <td>4.139752</td>\n",
       "    </tr>\n",
       "    <tr>\n",
       "      <th>997</th>\n",
       "      <td>{41: 2.0, 15: 5.0, 78: 3.0, 146: 2.0, 93: 3.0,...</td>\n",
       "      <td>3.537190</td>\n",
       "    </tr>\n",
       "    <tr>\n",
       "      <th>998</th>\n",
       "      <td>{92: 4.0, 6: 4.0, 47: 3.0, 189: 5.0, 72: 4.0, ...</td>\n",
       "      <td>3.196667</td>\n",
       "    </tr>\n",
       "    <tr>\n",
       "      <th>999</th>\n",
       "      <td>{97: 4.5, 194: 4.5, 11: 4.0, 168: 4.5, 109: 4....</td>\n",
       "      <td>4.338462</td>\n",
       "    </tr>\n",
       "  </tbody>\n",
       "</table>\n",
       "<p>1000 rows × 2 columns</p>\n",
       "</div>"
      ]
     },
     "execution_count": 10,
     "metadata": {},
     "output_type": "execute_result"
    }
   ],
   "execution_count": 10
  },
  {
   "metadata": {},
   "cell_type": "code",
   "source": [
    "for t in range(100):\n",
    "    for index, row in train_dataset.iterrows():\n",
    "        user_id = row['userIdOrdered']\n",
    "        item_id = row['movieIdOrdered']\n",
    "        items_rated_user_id = items_per_user.loc[user_id].ratedMovies\n",
    "        users_rated_movie_id = users_per_item.loc[item_id].usersRated\n"
   ],
   "id": "3f98ba90ec26f6f1",
   "outputs": [],
   "execution_count": null
  }
 ],
 "metadata": {
  "kernelspec": {
   "display_name": "Python 3",
   "language": "python",
   "name": "python3"
  },
  "language_info": {
   "codemirror_mode": {
    "name": "ipython",
    "version": 2
   },
   "file_extension": ".py",
   "mimetype": "text/x-python",
   "name": "python",
   "nbconvert_exporter": "python",
   "pygments_lexer": "ipython2",
   "version": "2.7.6"
  }
 },
 "nbformat": 4,
 "nbformat_minor": 5
}
